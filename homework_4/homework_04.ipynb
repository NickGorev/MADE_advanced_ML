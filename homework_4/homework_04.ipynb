{
 "cells": [
  {
   "cell_type": "markdown",
   "metadata": {},
   "source": [
    "# Advanced ML: Домашнее задание 4\n",
    "\n",
    "Николай Горев\n",
    "\n",
    "Группа MADE-DS-22"
   ]
  },
  {
   "cell_type": "code",
   "execution_count": 1,
   "metadata": {},
   "outputs": [],
   "source": [
    "import os\n",
    "import numpy as np\n",
    "import random\n",
    "from itertools import combinations, product\n",
    "import matplotlib.pyplot as plt\n",
    "%matplotlib inline\n",
    "import string"
   ]
  },
  {
   "cell_type": "code",
   "execution_count": 2,
   "metadata": {},
   "outputs": [],
   "source": [
    "random.seed(0)\n",
    "np.random.seed(0)"
   ]
  },
  {
   "cell_type": "code",
   "execution_count": 3,
   "metadata": {},
   "outputs": [],
   "source": [
    "corpora_path = 'corpora'\n",
    "corpora_ru = list(open(os.path.join(corpora_path, 'WarAndPeace.txt'), encoding=\"utf-8\")) + \\\n",
    "             list(open(os.path.join(corpora_path, 'AnnaKarenina.txt'), encoding=\"utf-8\"))"
   ]
  },
  {
   "cell_type": "code",
   "execution_count": 4,
   "metadata": {},
   "outputs": [],
   "source": [
    "# переведем в строчные буквы, удалим все символы, кроме букв из алфавита\n",
    "def clearLine(text, alphabet):\n",
    "    clean_line = ''\n",
    "    for symbol in text.lower():\n",
    "        if symbol in alphabet:\n",
    "            clean_line += symbol\n",
    "    return ' '.join(clean_line.split())\n",
    "            \n",
    "def clearCorpora(corpora_data, alphabet):\n",
    "    cleaned_data = []\n",
    "    for line in corpora_data:\n",
    "        clean_line = clearLine(line, alphabet)\n",
    "        if len(clean_line) > 0:\n",
    "            clean_line += ' '\n",
    "            cleaned_data.append(clean_line)\n",
    "            \n",
    "    return cleaned_data\n",
    "\n",
    "alphabet_ru = 'абвгдеёжзийклмнопрстуфхцчшщъыьэюя '\n",
    "corpora_ru = clearCorpora(corpora_ru, alphabet_ru)"
   ]
  },
  {
   "cell_type": "markdown",
   "metadata": {},
   "source": [
    "**1.** Реализуйте базовый частотный метод по Шерлоку Холмсу:\n",
    "- подсчитайте частоты букв по корпусам (пунктуацию и капитализацию можно просто опустить, а вот пробелы лучше оставить);\n",
    "- возьмите какие-нибудь тестовые тексты (нужно взять по меньшей мере 2-3 предложения, иначе совсем вряд ли сработает), зашифруйте их посредством случайной перестановки символов;\n",
    "- расшифруйте их таким частотным методом."
   ]
  },
  {
   "cell_type": "code",
   "execution_count": 5,
   "metadata": {},
   "outputs": [],
   "source": [
    "def calculateLettersFreques(alphabet, corpora_data):\n",
    "    total_number = len(alphabet)\n",
    "    freques = {''.join(symbol) : 0 for symbol in alphabet}\n",
    "    \n",
    "    for line in corpora_data:\n",
    "        for symbol in line:\n",
    "            freques[symbol] += 1\n",
    "            total_number += 1\n",
    "\n",
    "    for symbol in freques:\n",
    "        freques[symbol] /= total_number\n",
    "    \n",
    "    return freques\n",
    "\n",
    "freques_ru = calculateLettersFreques(alphabet_ru, corpora_ru)"
   ]
  },
  {
   "cell_type": "code",
   "execution_count": 6,
   "metadata": {},
   "outputs": [
    {
     "name": "stdout",
     "output_type": "stream",
     "text": [
      "в течение многих часов шерлок холмс сидел согнувшись над стеклянной пробиркой в которой варилось чтото на редкость вонючее голова его была опущена на грудь и он казался мне похожим на странную тощую птицу с тусклыми серыми перьями и черным хохолком\n"
     ]
    }
   ],
   "source": [
    "# тестовый текст, на котором будем проверять алгоритмы\n",
    "message = 'В течение многих часов Шерлок Холмс сидел  согнувшись  над ' +\\\n",
    "          'стеклянной  пробиркой,  в  которой  варилось что-то на редкость ' +\\\n",
    "          'вонючее. Голова его была опущена на грудь,  и  он  казался  мне ' +\\\n",
    "          'похожим  на  странную  тощую  птицу с тусклыми серыми перьями и ' +\\\n",
    "          'черным хохолком.'\n",
    "\n",
    "test_message = clearLine(message, alphabet_ru)\n",
    "print(test_message)"
   ]
  },
  {
   "cell_type": "code",
   "execution_count": 7,
   "metadata": {},
   "outputs": [],
   "source": [
    "# шифрователь случайной перестановкой символов\n",
    "class RandomPermuteCipher:\n",
    "    def __init__(self, alphabet):\n",
    "        self.alphabet = alphabet\n",
    "        \n",
    "        permutation = np.random.permutation(len(alphabet))\n",
    "        self.cipher_dict = {}\n",
    "        for i in range(len(alphabet)):\n",
    "            self.cipher_dict[alphabet[i]] = alphabet[permutation[i]]\n",
    "\n",
    "    def cipher(self, message):\n",
    "        return ''.join([self.cipher_dict.get(symbol, '') for symbol in message])"
   ]
  },
  {
   "cell_type": "code",
   "execution_count": 8,
   "metadata": {},
   "outputs": [],
   "source": [
    "# расшифровывает по готовому словарю\n",
    "def decipher(ciphered, decipher_dict):\n",
    "    return ''.join([decipher_dict.get(symbol, '') for symbol in ciphered])"
   ]
  },
  {
   "cell_type": "code",
   "execution_count": 9,
   "metadata": {},
   "outputs": [
    {
     "name": "stdout",
     "output_type": "stream",
     "text": [
      "шахщдщм щазмыр ёадкьышасщноычаёыозьаь вщоаьырмбшс ьжамкваьхщчогммыэаеныу нчыэашачыхыныэашкн оыьжадхыхыамканщвчыьхжашымъдщщарыоышкащрыауиокаыебфщмкамкарнбвжа аымачкйкоьгазмщаеыёып замкаьхнкммбъахыфбъаех цбаьахбьчоиз аьщниз аещнжгз а адщнмизаёыёыочыз\n"
     ]
    }
   ],
   "source": [
    "cipher = RandomPermuteCipher(alphabet_ru)\n",
    "\n",
    "ciphered = cipher.cipher(test_message)\n",
    "print(ciphered)"
   ]
  },
  {
   "cell_type": "code",
   "execution_count": 10,
   "metadata": {},
   "outputs": [],
   "source": [
    "# подсчитываем частоты символов в зашифрованном сообщении\n",
    "# упорядочиваем по убыванию частоты и составляем словарь\n",
    "# расшифровки сопоставляя зашифрованные символы символам\n",
    "# из корпуса по частоте\n",
    "def getDecipherUnigramm(ciphered, freques_dict):\n",
    "    freques = {symbol : 0 for symbol in set(ciphered)}\n",
    "    for symbol in ciphered:\n",
    "        freques[symbol] += 1\n",
    "\n",
    "    freques = sorted([(letter, freq) for letter, freq in freques.items()], \n",
    "                     key=lambda p : p[1], reverse=True)\n",
    "    corpusFreques = sorted([(letter, freq) for letter, freq in freques_dict.items()], \n",
    "                         key=lambda p : p[1], reverse=True)\n",
    "\n",
    "    decipher_dict = {}\n",
    "    for i in range(len(freques)):\n",
    "        decipher_dict[freques[i][0]] = corpusFreques[i][0]\n",
    "    \n",
    "    return decipher_dict"
   ]
  },
  {
   "cell_type": "code",
   "execution_count": 11,
   "metadata": {},
   "outputs": [],
   "source": [
    "decipher_dict = getDecipherUnigramm(ciphered, freques_ru)"
   ]
  },
  {
   "cell_type": "code",
   "execution_count": 12,
   "metadata": {},
   "outputs": [
    {
     "data": {
      "text/plain": [
       "'м вагаеиа реояиу гтном хаслок уолрн нибал нояедмхинп етб нваклчееоз ьсошискоз м ковосоз мтсилонп гвово ет сабконвп моежгаа яоломт аяо шылт оьдйает ет ясдбп и ое ктэтлнч реа ьоуоюир ет нвстеедж войдж ьвицд н вднклыри насыри ьаспчри и гасеыр уоуолкор'"
      ]
     },
     "execution_count": 12,
     "metadata": {},
     "output_type": "execute_result"
    }
   ],
   "source": [
    "decipher(ciphered, decipher_dict)"
   ]
  },
  {
   "cell_type": "code",
   "execution_count": 13,
   "metadata": {},
   "outputs": [
    {
     "data": {
      "text/plain": [
       "0.23333333333333334"
      ]
     },
     "execution_count": 13,
     "metadata": {},
     "output_type": "execute_result"
    }
   ],
   "source": [
    "# доля правильно расшифрованных букв\n",
    "def decipherQuality(cipher_dict, decipher_dict):\n",
    "    n_correct = 0\n",
    "    for symbol in cipher_dict.keys():\n",
    "        ciphered_symbol = cipher_dict[symbol]\n",
    "        if ciphered_symbol in decipher_dict and symbol == decipher_dict[ciphered_symbol]:\n",
    "            n_correct += 1\n",
    "    return n_correct / len(decipher_dict)\n",
    "    \n",
    "decipherQuality(cipher.cipher_dict, decipher_dict)    "
   ]
  },
  {
   "cell_type": "markdown",
   "metadata": {},
   "source": [
    "**2.** Вряд ли в результате получилась такая уж хорошая расшифровка, разве что если вы брали в качестве тестовых данных целые рассказы. Но и Шерлок Холмс был не так уж прост: после буквы E, которая действительно выделяется частотой, дальше он анализировал уже конкретные слова и пытался угадать, какими они могли бы быть. Я не знаю, как запрограммировать такой интуитивный анализ, так что давайте просто сделаем следующий логический шаг:\n",
    "- подсчитайте частоты биграмм (т.е. пар последовательных букв) по корпусам;\n",
    "- проведите тестирование аналогично п.1, но при помощи биграмм."
   ]
  },
  {
   "cell_type": "code",
   "execution_count": 14,
   "metadata": {},
   "outputs": [],
   "source": [
    "def calculateBigrammFreques(alphabet, corpora_data):\n",
    "    total_number = len(alphabet) ** 2\n",
    "    freques = {''.join(bigramm) : 1 for bigramm in product(alphabet, repeat=2)}\n",
    "    \n",
    "    for line in corpora_data:\n",
    "        for i in range(len(line) - 1):\n",
    "            bigramm = line[i : i + 2]\n",
    "            freques[bigramm] += 1\n",
    "            total_number += 1\n",
    "            \n",
    "    for ngramm, freq in freques.items():\n",
    "        freques[ngramm] = np.log(freq / total_number)\n",
    "        \n",
    "    return freques\n",
    "\n",
    "bigramm_logfreques_ru = calculateBigrammFreques(alphabet_ru, corpora_ru)"
   ]
  },
  {
   "cell_type": "code",
   "execution_count": 15,
   "metadata": {},
   "outputs": [],
   "source": [
    "def getDecipherBigramm(ciphered, freques_dict):\n",
    "    text_symbols = list(set(ciphered))\n",
    "    freques = {''.join(bigramm) : 1 for bigramm in product(text_symbols, repeat=2)}\n",
    "\n",
    "    for i in range(len(ciphered) - 1):\n",
    "        bigramm = ciphered[i : i + 2]\n",
    "        freques[bigramm] += 1\n",
    "\n",
    "    freques = sorted([(bigramm, freq) for bigramm, freq in freques.items()], \n",
    "                     key=lambda p : p[1], reverse=True)\n",
    "   \n",
    "    corpusFreques = sorted([(bigramm, freq) for bigramm, freq in freques_dict.items()], \n",
    "                         key=lambda p : p[1], reverse=True)\n",
    "\n",
    "    decipher_dict = {}\n",
    "    \n",
    "    # жадный алгоритм - зашифрованным биграммам с большей частотой\n",
    "    # подбираем расшифровку биграммамами из корпуса с наибольшей\n",
    "    # возможной частотой с учетом символов, добавленных в словарь\n",
    "    # расшифровки на предыдущих шагах алгоритма\n",
    "    for i in range(len(freques)):\n",
    "        l1, l2 = freques[i][0]\n",
    "        if l1 in decipher_dict:\n",
    "            if l2 in decipher_dict:\n",
    "                pass\n",
    "            else:\n",
    "                for j in range(len(corpusFreques)):\n",
    "                    d1, d2 = corpusFreques[j][0]\n",
    "                    if (d1 in decipher_dict.values() and \n",
    "                        d2 not in decipher_dict.values()):\n",
    "                        decipher_dict[l2] = d2\n",
    "                        break\n",
    "        else:\n",
    "            if l2 in decipher_dict:\n",
    "                for j in range(len(corpusFreques)):\n",
    "                    d1, d2 = corpusFreques[j][0]\n",
    "                    if (d1 not in decipher_dict.values() and \n",
    "                        d2 in decipher_dict.values()):\n",
    "                        decipher_dict[l1] = d1\n",
    "                        break\n",
    "            else:\n",
    "                for j in range(len(corpusFreques)):\n",
    "                    d1, d2 = corpusFreques[j][0]\n",
    "                    if (d1 not in decipher_dict.values() and \n",
    "                        d2 not in decipher_dict.values()):\n",
    "                        decipher_dict[l1] = d1\n",
    "                        decipher_dict[l2] = d2\n",
    "                        break\n",
    "                \n",
    "    return decipher_dict\n",
    "\n",
    "decipher_dict = getDecipherBigramm(ciphered, bigramm_logfreques_ru)"
   ]
  },
  {
   "cell_type": "code",
   "execution_count": 16,
   "metadata": {},
   "outputs": [
    {
     "data": {
      "text/plain": [
       "'вогпдпиепоыитчесода твошпрктяосткы о ейпко тчимвше ьоиайо гпякэиитлонртхерятловоятгтртловарект ьодгтгтоиаорпйят гьовтиудппочтктваопчтохбкаотнмзпиаоиаочрмйьоеотиояаюак эоыипонтстжеыоиао граиимуогтзмуонгещмо огм якбыео прбыеонпрьэыеоеодприбыостсткяты'"
      ]
     },
     "execution_count": 16,
     "metadata": {},
     "output_type": "execute_result"
    }
   ],
   "source": [
    "decipher(ciphered, decipher_dict)"
   ]
  },
  {
   "cell_type": "code",
   "execution_count": 17,
   "metadata": {},
   "outputs": [
    {
     "data": {
      "text/plain": [
       "0.2"
      ]
     },
     "execution_count": 17,
     "metadata": {},
     "output_type": "execute_result"
    }
   ],
   "source": [
    "decipherQuality(cipher.cipher_dict, decipher_dict)"
   ]
  },
  {
   "cell_type": "markdown",
   "metadata": {},
   "source": [
    "Получилось также плохо, как и по частотам отдельных букв. "
   ]
  },
  {
   "cell_type": "markdown",
   "metadata": {},
   "source": [
    "**3.**\tНо и это ещё не всё: биграммы скорее всего тоже далеко не всегда работают. Основная часть задания — в том, как можно их улучшить:\n",
    "- предложите метод обучения перестановки символов в этом задании, основанный на MCMC-сэмплировании, но по-прежнему работающий на основе статистики биграмм;\n",
    "- реализуйте и протестируйте его, убедитесь, что результаты улучшились"
   ]
  },
  {
   "cell_type": "markdown",
   "metadata": {},
   "source": [
    "Прежде всего, построим критерий качества получаемого после расшифровки текста на основе статистики биграмм (в более общем случае - n-грамм). Будем считать, что текст - марковская цепь. В качестве критерия качества будем использовать логарифм правдоподобия текста: $$llh = \\sum \\log\\left(p(symbol_{i+n}|symbol_{i}, \\dots symbol_{i + n - 1})\\right)$$\n",
    "Здесь $\\log\\left(p(symbol_{i+n}|symbol_{i}, \\dots symbol_{i + n - 1})\\right)$ - логарифм условной вероятности появления символа при условии известных $(n - 1)$ предыдущих символов (для биграмм - при условии предыдущего символа). Эти вероятности будем оценивать на основе статистики n-грамм корпуса текстов."
   ]
  },
  {
   "cell_type": "code",
   "execution_count": 18,
   "metadata": {},
   "outputs": [],
   "source": [
    "def buildNgrammDict(alphabet, corpora_data, ngramm_length=2):\n",
    "    total_number = len(alphabet) ** ngramm_length\n",
    "    freques = {''.join(ngramm) : 1 for ngramm in product(alphabet, repeat=ngramm_length)}\n",
    "    \n",
    "    for line in corpora_data:\n",
    "        for i in range(len(line) - ngramm_length + 1):\n",
    "            ngramm = line[i : i + ngramm_length]\n",
    "            freques[ngramm] += 1\n",
    "            total_number += 1\n",
    "\n",
    "\n",
    "    freques_cond = {''.join(ngramm) : {symbol : 0 for symbol in alphabet} \n",
    "                    for ngramm in product(alphabet, repeat=ngramm_length - 1)}\n",
    "    tot_num = {''.join(ngramm) : 0 for ngramm in product(alphabet, repeat=ngramm_length - 1)}\n",
    "    for ngramm, freq in freques.items():\n",
    "        freques_cond[ngramm[:-1]][ngramm[-1]] += freq\n",
    "        tot_num[ngramm[:-1]] += freq\n",
    "    for prefix, freq_mar in freques_cond.items():\n",
    "        for symbol, freq in freq_mar.items():\n",
    "            freques_cond[prefix][symbol] = np.log(freq / tot_num[prefix])\n",
    "            \n",
    "    return freques_cond\n",
    "\n",
    "bigramm_logfreques_ru = buildNgrammDict(alphabet_ru, corpora_ru, ngramm_length=2)"
   ]
  },
  {
   "cell_type": "code",
   "execution_count": 19,
   "metadata": {},
   "outputs": [],
   "source": [
    "# логарифм правдоподобия текста по частотам биграмм\n",
    "def calculateBigrammLLH(text):\n",
    "    # для первого символа текста неявно считаем, \n",
    "    # что перед ним находится пробел\n",
    "    llh = bigramm_logfreques_ru[' '][text[0]]\n",
    "    \n",
    "    for i in range(len(text) - 1):\n",
    "        llh += bigramm_logfreques_ru[text[i]][text[i + 1]]\n",
    "        \n",
    "    return llh"
   ]
  },
  {
   "cell_type": "markdown",
   "metadata": {},
   "source": [
    "В качестве начального приближения возьмем декодирующую перестановку, полученную по частотам отдельных букв.\n",
    "\n",
    "Используя MCMC-сэмплирование, построим последовательность дешифрующих перестановок символов, переставляя на каждом шаге пару символов. Считаем, что распределение дешифрующих перестановок пропорционально правдоподобию расшифрованного текста. Перестановку с лучшим правдоподобием сохраняем. "
   ]
  },
  {
   "cell_type": "code",
   "execution_count": 20,
   "metadata": {},
   "outputs": [],
   "source": [
    "def getDecipherMCMC(ciphered, calculateLLH, unigramm_dict, steps=100):\n",
    "    # начальное приближение - словарь по частотам отдельных букв\n",
    "    decipher_dict = getDecipherUnigramm(ciphered, unigramm_dict)\n",
    "    \n",
    "    # дополним начальное приближение до полного алфавита\n",
    "    for i, s in enumerate(unigramm_dict.keys() - decipher_dict.values()):\n",
    "        decipher_dict[chr(ord(max(decipher_dict.keys())) + 1 + i)] = s\n",
    "    \n",
    "    max_llh = calculateLLH(decipher(ciphered, decipher_dict))\n",
    "    best_dict = decipher_dict.copy()\n",
    "    \n",
    "    prev_llh = max_llh\n",
    "\n",
    "    symbols = list(decipher_dict.keys())\n",
    "    symbols_pairs = list(combinations(symbols, 2))\n",
    "    \n",
    "    iteration = 0\n",
    "    while iteration < steps:\n",
    "        iteration += 1\n",
    "        for a, b in np.random.permutation(symbols_pairs):\n",
    "            new_dict = decipher_dict.copy()\n",
    "            new_dict[a], new_dict[b] = new_dict[b], new_dict[a]\n",
    "            llh = calculateLLH(decipher(ciphered, new_dict))\n",
    "            if llh > prev_llh or random.random() < np.exp(llh - prev_llh):\n",
    "                decipher_dict = new_dict.copy()\n",
    "                prev_llh = llh\n",
    "\n",
    "            if llh > max_llh:\n",
    "                max_llh = llh\n",
    "                best_dict = new_dict.copy()\n",
    "                iteration = 0\n",
    "                break\n",
    "\n",
    "    return best_dict"
   ]
  },
  {
   "cell_type": "code",
   "execution_count": 21,
   "metadata": {},
   "outputs": [],
   "source": [
    "decipher_dict = getDecipherMCMC(ciphered, calculateBigrammLLH, freques_ru)"
   ]
  },
  {
   "cell_type": "code",
   "execution_count": 22,
   "metadata": {},
   "outputs": [
    {
     "data": {
      "text/plain": [
       "'в течение мнодиг часов шерлок голмс сизел соднувшись наз стеклянной пробиркой в которой варилось чтото на резкость вонючее долова едо была опужена на друзь и он кахался мне погофим на странную тожую птицу с тусклыми серыми перьями и черным гоголком'"
      ]
     },
     "execution_count": 22,
     "metadata": {},
     "output_type": "execute_result"
    }
   ],
   "source": [
    "decipher(ciphered, decipher_dict)"
   ]
  },
  {
   "cell_type": "code",
   "execution_count": 23,
   "metadata": {},
   "outputs": [
    {
     "data": {
      "text/plain": [
       "0.7058823529411765"
      ]
     },
     "execution_count": 23,
     "metadata": {},
     "output_type": "execute_result"
    }
   ],
   "source": [
    "decipherQuality(cipher.cipher_dict, decipher_dict)"
   ]
  },
  {
   "cell_type": "markdown",
   "metadata": {},
   "source": [
    "Качество дешифровки стало существенно лучше."
   ]
  },
  {
   "cell_type": "markdown",
   "metadata": {},
   "source": [
    "**4.** Расшифруйте сообщение:\n",
    "\n",
    "←⇠⇒↟↹↷⇊↹↷↟↤↟↨←↹↝⇛⇯↳⇴⇒⇈↝⇊↾↹↟⇒↟↹⇷⇛⇞↨↟↹↝⇛⇯↳⇴⇒⇈↝⇊↾↹↨←⇌⇠↨↹⇙↹⇸↨⇛↙⇛↹⇠⇛⇛↲⇆←↝↟↞↹⇌⇛↨\n",
    "⇛⇯⇊↾↹⇒←↙⇌⇛↹⇷⇯⇛⇞↟↨⇴↨⇈↹⇠⇌⇛⇯←←↹↷⇠←↙⇛↹↷⇊↹↷⇠←↹⇠↤←⇒⇴⇒↟↹⇷⇯⇴↷↟⇒⇈↝⇛↹↟↹⇷⇛⇒⇙⇞↟↨←↹↳⇴⇌\n",
    "⇠↟↳⇴⇒⇈↝⇊↾↹↲⇴⇒⇒↹⇰⇴↹⇷⇛⇠⇒←↤↝←←↹⇞←↨↷←⇯↨⇛←↹⇰⇴↤⇴↝↟←↹⇌⇙⇯⇠⇴↹↘⇛↨↞↹⇌⇛↝←⇞↝⇛↹↞↹↝↟⇞←↙⇛\n",
    "↹↝←↹⇛↲←⇆⇴⇏"
   ]
  },
  {
   "cell_type": "code",
   "execution_count": 24,
   "metadata": {},
   "outputs": [],
   "source": [
    "ciphered_final = '←⇠⇒↟↹↷⇊↹↷↟↤↟↨←↹↝⇛⇯↳⇴⇒⇈↝⇊↾↹↟⇒↟↹⇷⇛⇞↨↟↹↝⇛⇯↳⇴⇒⇈↝⇊↾↹↨←⇌⇠↨↹⇙↹⇸↨⇛↙⇛↹⇠⇛⇛↲⇆←↝↟↞↹⇌⇛↨⇛⇯⇊↾↹⇒←↙⇌⇛↹⇷⇯⇛⇞↟↨⇴↨⇈↹⇠⇌⇛⇯←←↹↷⇠←↙⇛↹↷⇊↹↷⇠←↹⇠↤←⇒⇴⇒↟↹⇷⇯⇴↷↟⇒⇈↝⇛↹↟↹⇷⇛⇒⇙⇞↟↨←↹↳⇴⇌⇠↟↳⇴⇒⇈↝⇊↾↹↲⇴⇒⇒↹⇰⇴↹⇷⇛⇠⇒←↤↝←←↹⇞←↨↷←⇯↨⇛←↹⇰⇴↤⇴↝↟←↹⇌⇙⇯⇠⇴↹↘⇛↨↞↹⇌⇛↝←⇞↝⇛↹↞↹↝↟⇞←↙⇛↹↝←↹⇛↲←⇆⇴⇏'"
   ]
  },
  {
   "cell_type": "code",
   "execution_count": 25,
   "metadata": {},
   "outputs": [
    {
     "data": {
      "text/plain": [
       "230"
      ]
     },
     "execution_count": 25,
     "metadata": {},
     "output_type": "execute_result"
    }
   ],
   "source": [
    "len(ciphered_final)"
   ]
  },
  {
   "cell_type": "code",
   "execution_count": 26,
   "metadata": {},
   "outputs": [
    {
     "data": {
      "text/plain": [
       "'если вы вимите нордальный или почти нордальный текст у этого сообщения который легко прочитать скорее всего вы все смелали правильно и получите даксидальный балл за послемнее четвертое замание курса хотя конечно я ничего не обещаж'"
      ]
     },
     "execution_count": 26,
     "metadata": {},
     "output_type": "execute_result"
    }
   ],
   "source": [
    "random.seed(0)\n",
    "np.random.seed(0)\n",
    "\n",
    "decipher(\n",
    "    ciphered_final, \n",
    "    getDecipherMCMC(\n",
    "        ciphered_final, \n",
    "        calculateBigrammLLH, \n",
    "        freques_ru,\n",
    "        steps=1000\n",
    "    )\n",
    ")"
   ]
  },
  {
   "cell_type": "markdown",
   "metadata": {},
   "source": [
    "**5.** Бонус : а что если от биграмм перейти к триграммам (тройкам букв) или даже больше? Улучшатся ли результаты? Когда улучшатся, а когда нет? Чтобы ответить на этот вопрос эмпирически, уже может понадобиться погенерировать много тестовых перестановок и последить за метриками, глазами может быть и не видно."
   ]
  },
  {
   "cell_type": "code",
   "execution_count": 27,
   "metadata": {},
   "outputs": [],
   "source": [
    "trigramm_logfreques_ru = buildNgrammDict(alphabet_ru, corpora_ru, ngramm_length=3)"
   ]
  },
  {
   "cell_type": "code",
   "execution_count": 28,
   "metadata": {},
   "outputs": [],
   "source": [
    "# логарифм правдоподобия текста по частотам триграмм\n",
    "def calculateTrigrammLLH(text):\n",
    "    llh = bigramm_logfreques_ru[' '][text[0]] + bigramm_logfreques_ru[text[0]][text[1]]\n",
    "    for i in range(len(text) - 2):\n",
    "        llh += trigramm_logfreques_ru[text[i:i + 2]][text[i + 2]]\n",
    "    return llh"
   ]
  },
  {
   "cell_type": "code",
   "execution_count": 29,
   "metadata": {},
   "outputs": [],
   "source": [
    "TRIALS = 100\n",
    "bigramm_performance = []\n",
    "trigramm_performance = []\n",
    "for trial in range(TRIALS):\n",
    "    cipher = RandomPermuteCipher(alphabet_ru)\n",
    "    ciphered = cipher.cipher(test_message)\n",
    "    decipher_dict_bigramm = getDecipherMCMC(ciphered, \n",
    "                                            calculateTrigrammLLH, \n",
    "                                            freques_ru)\n",
    "    bigramm_performance.append(decipherQuality(cipher.cipher_dict, decipher_dict_bigramm))\n",
    "    decipher_dict_trigramm = getDecipherMCMC(ciphered, \n",
    "                                             calculateTrigrammLLH, \n",
    "                                             freques_ru)\n",
    "    trigramm_performance.append(decipherQuality(cipher.cipher_dict, decipher_dict_trigramm))"
   ]
  },
  {
   "cell_type": "code",
   "execution_count": 30,
   "metadata": {},
   "outputs": [
    {
     "data": {
      "image/png": "[encoded data removed]",
      "text/plain": [
       "<Figure size 432x288 with 1 Axes>"
      ]
     },
     "metadata": {
      "needs_background": "light"
     },
     "output_type": "display_data"
    }
   ],
   "source": [
    "plt.hist(bigramm_performance, label='MCMC bigramm')\n",
    "plt.hist(trigramm_performance, label='MCMC trighramm')\n",
    "plt.legend()\n",
    "plt.title('Доля правильно расшифрованных букв')\n",
    "plt.show();"
   ]
  },
  {
   "cell_type": "code",
   "execution_count": 31,
   "metadata": {},
   "outputs": [
    {
     "data": {
      "text/plain": [
       "(0.81, 0.8679411764705881)"
      ]
     },
     "execution_count": 31,
     "metadata": {},
     "output_type": "execute_result"
    }
   ],
   "source": [
    "np.mean(bigramm_performance), np.mean(trigramm_performance)"
   ]
  },
  {
   "cell_type": "markdown",
   "metadata": {},
   "source": [
    "С триграммами результат чуть лучше. Попробуем на зашифрованном сообщении из предыдущего пункта."
   ]
  },
  {
   "cell_type": "code",
   "execution_count": 32,
   "metadata": {},
   "outputs": [
    {
     "data": {
      "text/plain": [
       "'если вы видите нормальный или почти нормальный текст у этого сообщения который легко прочитать скорее всего вы все сделали правильно и получите максимальный балл за последнее четвертое задание курса хотя конечно я ничего не обещаю'"
      ]
     },
     "execution_count": 32,
     "metadata": {},
     "output_type": "execute_result"
    }
   ],
   "source": [
    "random.seed(0)\n",
    "np.random.seed(0)\n",
    "\n",
    "decipher(\n",
    "    ciphered_final, \n",
    "    getDecipherMCMC(\n",
    "        ciphered_final, \n",
    "        calculateTrigrammLLH, \n",
    "        freques_ru,\n",
    "        steps=1000\n",
    "    )\n",
    ")"
   ]
  },
  {
   "cell_type": "code",
   "execution_count": null,
   "metadata": {},
   "outputs": [],
   "source": []
  }
 ],
 "metadata": {
  "kernelspec": {
   "display_name": "Python 3",
   "language": "python",
   "name": "python3"
  },
  "language_info": {
   "codemirror_mode": {
    "name": "ipython",
    "version": 3
   },
   "file_extension": ".py",
   "mimetype": "text/x-python",
   "name": "python",
   "nbconvert_exporter": "python",
   "pygments_lexer": "ipython3",
   "version": "3.7.6"
  }
 },
 "nbformat": 4,
 "nbformat_minor": 4
}
