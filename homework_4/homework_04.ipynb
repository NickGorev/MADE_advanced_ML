{
 "cells": [
  {
   "cell_type": "markdown",
   "metadata": {},
   "source": [
    "# Advanced ML: Домашнее задание 4\n",
    "\n",
    "Николай Горев\n",
    "\n",
    "Группа MADE-DS-22"
   ]
  },
  {
   "cell_type": "code",
   "execution_count": 1,
   "metadata": {},
   "outputs": [],
   "source": [
    "import os\n",
    "import numpy as np\n",
    "import random\n",
    "from itertools import combinations, product\n",
    "import matplotlib.pyplot as plt\n",
    "%matplotlib inline"
   ]
  },
  {
   "cell_type": "code",
   "execution_count": 2,
   "metadata": {},
   "outputs": [],
   "source": [
    "random.seed(42)\n",
    "np.random.seed(42)"
   ]
  },
  {
   "cell_type": "code",
   "execution_count": 3,
   "metadata": {},
   "outputs": [],
   "source": [
    "corpora_path = 'corpora'\n",
    "corpora_ru = list(open(os.path.join(corpora_path, 'WarAndPeace.txt'), encoding=\"utf-8\")) + \\\n",
    "             list(open(os.path.join(corpora_path, 'AnnaKarenina.txt'), encoding=\"utf-8\"))"
   ]
  },
  {
   "cell_type": "markdown",
   "metadata": {},
   "source": [
    "**1.** Реализуйте базовый частотный метод по Шерлоку Холмсу:\n",
    "- подсчитайте частоты букв по корпусам (пунктуацию и капитализацию можно просто опустить, а вот пробелы лучше оставить);\n",
    "- возьмите какие-нибудь тестовые тексты (нужно взять по меньшей мере 2-3 предложения, иначе совсем вряд ли сработает), зашифруйте их посредством случайной перестановки символов;\n",
    "- расшифруйте их таким частотным методом."
   ]
  },
  {
   "cell_type": "code",
   "execution_count": 4,
   "metadata": {},
   "outputs": [],
   "source": [
    "def buildNgrammDict(alphabet, corpora_data, ngramm_length=1):\n",
    "    total_number = len(alphabet) ** ngramm_length\n",
    "    freques = {''.join(ngramm) : 1 for ngramm in product(alphabet, repeat=ngramm_length)}\n",
    "    \n",
    "    for line in corpora_data:\n",
    "        clean_line =''\n",
    "        for symbol in line.lower():\n",
    "            if symbol in alphabet:\n",
    "                clean_line += symbol\n",
    "        clean_line = ' '.join(clean_line.split())\n",
    "        \n",
    "        if len(clean_line) > 0:\n",
    "            clean_line += ' '\n",
    "            for i in range(len(clean_line) - ngramm_length + 1):\n",
    "                ngramm = clean_line[i : i + ngramm_length]\n",
    "                freques[ngramm] += 1\n",
    "                total_number += 1\n",
    "\n",
    "    for ngramm, freq in freques.items():\n",
    "        freques[ngramm] = np.log(freq / total_number)\n",
    "        \n",
    "    return freques\n",
    "\n",
    "alphabet_ru = 'абвгдеёжзийклмнопрстуфхцчшщъыьэюя '\n",
    "freques_ru = buildNgrammDict(alphabet_ru, corpora_ru, ngramm_length=1)"
   ]
  },
  {
   "cell_type": "code",
   "execution_count": 5,
   "metadata": {},
   "outputs": [],
   "source": [
    "# тестовый текст, на котором будем проверять алгоритмы\n",
    "message = 'В течение многих часов Шерлок Холмс сидел  согнувшись  над ' +\\\n",
    "          'стеклянной  пробиркой,  в  которой  варилось что-то на редкость ' +\\\n",
    "          'вонючее. Голова его была опущена на грудь,  и  он  казался  мне ' +\\\n",
    "          'похожим  на  странную  тощую  птицу с тусклыми серыми перьями и ' +\\\n",
    "          'черным хохолком.'"
   ]
  },
  {
   "cell_type": "code",
   "execution_count": 6,
   "metadata": {},
   "outputs": [
    {
     "name": "stdout",
     "output_type": "stream",
     "text": [
      "в течение многих часов шерлок холмс сидел согнувшись над стеклянной пробиркой в которой варилось чтото на редкость вонючее голова его была опущена на грудь и он казался мне похожим на странную тощую птицу с тусклыми серыми перьями и черным хохолком\n"
     ]
    }
   ],
   "source": [
    "# переведем в строчные буквы, удалим знаки препинания\n",
    "cleared_message = ''\n",
    "for symbol in message.lower():\n",
    "    if symbol in alphabet_ru:\n",
    "        cleared_message += symbol\n",
    "test_message = ' '.join(cleared_message.split())\n",
    "print(test_message)"
   ]
  },
  {
   "cell_type": "code",
   "execution_count": 7,
   "metadata": {},
   "outputs": [],
   "source": [
    "# шифрователь случайной перестановкой символов\n",
    "class RandomPermuteCipher:\n",
    "    def __init__(self, alphabet):\n",
    "        self.alphabet = alphabet\n",
    "        \n",
    "        permutation = np.random.permutation(len(alphabet))\n",
    "        self.cipher_dict = {}\n",
    "        for i in range(len(alphabet)):\n",
    "            self.cipher_dict[alphabet[i]] = alphabet[permutation[i]]\n",
    "\n",
    "    def cipher(self, message):\n",
    "        return ''.join([self.cipher_dict.get(symbol, '') for symbol in message])"
   ]
  },
  {
   "cell_type": "code",
   "execution_count": 8,
   "metadata": {},
   "outputs": [],
   "source": [
    "def decipher(ciphered, decipher_dict):\n",
    "    return ''.join([decipher_dict.get(symbol, '') for symbol in ciphered])"
   ]
  },
  {
   "cell_type": "code",
   "execution_count": 9,
   "metadata": {},
   "outputs": [
    {
     "name": "stdout",
     "output_type": "stream",
     "text": [
      "ъыэчхчеичыремщицыховмъысчбпмдыцмпрвывизчпывмщегъсив ыеозывэчдпнеемаыкбмтибдмаыъыдмэмбмаыъобипмв ыхэмэмыеоыбчздмвэ ыъмейхччыщмпмъоычщмытупоымкгшчеоыеоыщбгз ыиымеыдояопвныречыкмцмлирыеоывэбоеегйыэмшгйыкэиюгывыэгвдпуриывчбуриыкчб нриыиыхчбеурыцмцмпдмр\n"
     ]
    }
   ],
   "source": [
    "cipher = RandomPermuteCipher(alphabet_ru)\n",
    "\n",
    "ciphered = cipher.cipher(test_message)\n",
    "print(ciphered)"
   ]
  },
  {
   "cell_type": "code",
   "execution_count": 10,
   "metadata": {},
   "outputs": [],
   "source": [
    "def getDecipherUnigramm(ciphered, freques_dict):\n",
    "    text_symbols = list(set(ciphered))\n",
    "    if len(text_symbols) < len(freques_dict):\n",
    "        n_additional_symbols = len(freques_dict) - len(text_symbols)\n",
    "        for symbol in freques_dict.keys():\n",
    "            if symbol not in text_symbols:\n",
    "                text_symbols.append(symbol)\n",
    "                n_additional_symbols -= 1\n",
    "                if n_additional_symbols == 0:\n",
    "                    break\n",
    "    \n",
    "    freques = {symbol : 0 for symbol in text_symbols}\n",
    "    for symbol in ciphered:\n",
    "        freques[symbol] += 1\n",
    "\n",
    "    freques = sorted([(letter, freq) for letter, freq in freques.items()], \n",
    "                     key=lambda p : p[1], reverse=True)\n",
    "    \n",
    "    corpusFreques = sorted([(letter, freq) for letter, freq in freques_dict.items()], \n",
    "                         key=lambda p : p[1], reverse=True)\n",
    "\n",
    "    decipher_dict = {}\n",
    "    for i in range(len(freques)):\n",
    "        decipher_dict[freques[i][0]] = corpusFreques[i][0]\n",
    "    \n",
    "    return decipher_dict"
   ]
  },
  {
   "cell_type": "code",
   "execution_count": 11,
   "metadata": {},
   "outputs": [],
   "source": [
    "decipher_dict = getDecipherUnigramm(ciphered, freques_ru)"
   ]
  },
  {
   "cell_type": "code",
   "execution_count": 12,
   "metadata": {},
   "outputs": [
    {
     "data": {
      "text/plain": [
       "'д лапаеиа реогиь птнод йасвок ьоврн нибав ногемдйину етб нлаквжееоз ясошискоз д колосоз дтсивону плоло ет сабконлу доечпаа говодт аго шывт оямхает ет гсмбу и ое ктэтвнж реа яоьоцир ет нлстеемч лохмч ялиюм н лмнквыри насыри яасужри и пасеыр ьоьовкор'"
      ]
     },
     "execution_count": 12,
     "metadata": {},
     "output_type": "execute_result"
    }
   ],
   "source": [
    "decipher(ciphered, decipher_dict)"
   ]
  },
  {
   "cell_type": "code",
   "execution_count": 13,
   "metadata": {},
   "outputs": [
    {
     "data": {
      "text/plain": [
       "0.17647058823529413"
      ]
     },
     "execution_count": 13,
     "metadata": {},
     "output_type": "execute_result"
    }
   ],
   "source": [
    "# доля правильно расшифрованных букв\n",
    "def decipherQuality(cipher_dict, decipher_dict):\n",
    "    n_correct = 0\n",
    "    for symbol in cipher_dict.keys():\n",
    "        ciphered_symbol = cipher_dict[symbol]\n",
    "        if ciphered_symbol in decipher_dict and symbol == decipher_dict[ciphered_symbol]:\n",
    "            n_correct += 1\n",
    "    return n_correct / len(decipher_dict)\n",
    "    \n",
    "decipherQuality(cipher.cipher_dict, decipher_dict)    "
   ]
  },
  {
   "cell_type": "markdown",
   "metadata": {},
   "source": [
    "**2.** Вряд ли в результате получилась такая уж хорошая расшифровка, разве что если вы брали в качестве тестовых данных целые рассказы. Но и Шерлок Холмс был не так уж прост: после буквы E, которая действительно выделяется частотой, дальше он анализировал уже конкретные слова и пытался угадать, какими они могли бы быть. Я не знаю, как запрограммировать такой интуитивный анализ, так что давайте просто сделаем следующий логический шаг:\n",
    "- подсчитайте частоты биграмм (т.е. пар последовательных букв) по корпусам;\n",
    "- проведите тестирование аналогично п.1, но при помощи биграмм."
   ]
  },
  {
   "cell_type": "code",
   "execution_count": 14,
   "metadata": {},
   "outputs": [],
   "source": [
    "bigramm_logfreques_ru = buildNgrammDict(alphabet_ru, corpora_ru, ngramm_length=2)"
   ]
  },
  {
   "cell_type": "code",
   "execution_count": 15,
   "metadata": {},
   "outputs": [],
   "source": [
    "# логарифм правдоподобия текста по частотам ngramm\n",
    "def calculateNgrammLLH(ngramm_llh_dict):\n",
    "    ngramm_length = len(list(ngramm_llh_dict.keys())[0])\n",
    "    INFTY = 1e5\n",
    "    def calculateLLH(text):\n",
    "        llh = 0\n",
    "        for i in range(len(text) - ngramm_length + 1):\n",
    "            ngramm = text[i : i + ngramm_length]\n",
    "            llh += ngramm_llh_dict.get(ngramm, -INFTY)\n",
    "        return llh\n",
    "    return calculateLLH"
   ]
  },
  {
   "cell_type": "markdown",
   "metadata": {},
   "source": [
    "Для определения декодирующей перестановки поступим следующим образом:\n",
    "- в качестве начального приближения возьмем декодирующую перестановку, полученную по частотам отдельных букв;\n",
    "- будем последвательно улучшать декодирующую перестановку, пробуя переставлять пару случайных символов. В качестве критерия качества расшифровки берем логарифм правдоподобия расшифрованного текста, вычисленный по частотам биграмм."
   ]
  },
  {
   "cell_type": "code",
   "execution_count": 16,
   "metadata": {},
   "outputs": [],
   "source": [
    "def getDecipherBigramm(ciphered, calculateLLH, unigramm_dict):\n",
    "    # начальное приближение - словарь по частотам отдельных букв\n",
    "    decipher_dict = getDecipherUnigramm(ciphered, unigramm_dict)\n",
    "    \n",
    "    max_llh = calculateLLH(decipher(ciphered, decipher_dict))\n",
    "\n",
    "    symbols = list(decipher_dict.keys())\n",
    "    symbols_pairs = list(combinations(symbols, 2))\n",
    "    \n",
    "    # переставляем пары букв в словаре расшифровки и вычисляем \n",
    "    # логарифм правдоподобия по биграммам расшифрованного текста;\n",
    "    # в случае улучшения правдоподобия запоминаем изменения\n",
    "    improved = True\n",
    "    while improved:\n",
    "        improved = False\n",
    "        for a, b in np.random.permutation(symbols_pairs):\n",
    "            new_dict = decipher_dict.copy()\n",
    "            new_dict[a], new_dict[b] = \\\n",
    "                new_dict[b], new_dict[a]\n",
    "            llh = calculateLLH(decipher(ciphered, new_dict))\n",
    "            if llh > max_llh:\n",
    "                max_llh = llh\n",
    "                decipher_dict = new_dict.copy()\n",
    "                improved = True\n",
    "                \n",
    "    return decipher_dict"
   ]
  },
  {
   "cell_type": "code",
   "execution_count": 17,
   "metadata": {},
   "outputs": [],
   "source": [
    "decipher_dict = getDecipherBigramm(ciphered, calculateNgrammLLH(bigramm_logfreques_ru), freques_ru)"
   ]
  },
  {
   "cell_type": "code",
   "execution_count": 18,
   "metadata": {},
   "outputs": [
    {
     "data": {
      "text/plain": [
       "'з редение многив датоз желсок восмт тичес тогнузжить нач трексянной плобилкой з королой залисоть дроро на лечкотрь зонюдее госоза его быса опушена на глучь и он кахастя мне повофим на трланную рошую прицу т рутксыми телыми пельями и делным вовоском'"
      ]
     },
     "execution_count": 18,
     "metadata": {},
     "output_type": "execute_result"
    }
   ],
   "source": [
    "decipher(ciphered, decipher_dict)"
   ]
  },
  {
   "cell_type": "code",
   "execution_count": 19,
   "metadata": {},
   "outputs": [
    {
     "data": {
      "text/plain": [
       "0.5294117647058824"
      ]
     },
     "execution_count": 19,
     "metadata": {},
     "output_type": "execute_result"
    }
   ],
   "source": [
    "decipherQuality(cipher.cipher_dict, decipher_dict)"
   ]
  },
  {
   "cell_type": "markdown",
   "metadata": {},
   "source": [
    "**3.**\tНо и это ещё не всё: биграммы скорее всего тоже далеко не всегда работают. Основная часть задания — в том, как можно их улучшить:\n",
    "- предложите метод обучения перестановки символов в этом задании, основанный на MCMC-сэмплировании, но по-прежнему работающий на основе статистики биграмм;\n",
    "- реализуйте и протестируйте его, убедитесь, что результаты улучшились"
   ]
  },
  {
   "cell_type": "markdown",
   "metadata": {},
   "source": [
    "Используя MCMC-сэмплирование, построим последовательность дешифрующих перестановок символов, переставляя на каждом шаге пару символов. Считаем, что распределение перестановок пропорционально правдоподобию расшифрованного текста. Перестановку с лучшим правдоподобием сохраняем. Алгоритм похож на алгоритм из предыдущего пункта. Основное отличие: на каждой итерации не всегда происходит улучшение расшифровки, но, с некоторой вероятностью, допускается ухудшение. По-видимому, это позволяет иногда выйти из локального экстремума."
   ]
  },
  {
   "cell_type": "code",
   "execution_count": 20,
   "metadata": {},
   "outputs": [],
   "source": [
    "def getDecipherMCMC(ciphered, calculateLLH, unigramm_dict, steps=100):\n",
    "    # начальное приближение - словарь по частотам отдельных букв\n",
    "    decipher_dict = getDecipherUnigramm(ciphered, unigramm_dict)\n",
    "    \n",
    "    max_llh = calculateLLH(decipher(ciphered, decipher_dict))\n",
    "    best_dict = decipher_dict.copy()\n",
    "    \n",
    "    prev_llh = max_llh\n",
    "\n",
    "    symbols = list(decipher_dict.keys())\n",
    "    symbols_pairs = list(combinations(symbols, 2))\n",
    "    \n",
    "    iteration = 0\n",
    "    while iteration < steps:\n",
    "        iteration += 1\n",
    "        for a, b in np.random.permutation(symbols_pairs):\n",
    "            new_dict = decipher_dict.copy()\n",
    "            new_dict[a], new_dict[b] = new_dict[b], new_dict[a]\n",
    "            llh = calculateLLH(decipher(ciphered, new_dict))\n",
    "            if llh > prev_llh or random.random() < np.exp(llh - prev_llh):\n",
    "                decipher_dict = new_dict.copy()\n",
    "                prev_llh = llh\n",
    "\n",
    "            if llh > max_llh:\n",
    "                max_llh = llh\n",
    "                best_dict = new_dict.copy()\n",
    "                iteration = 0\n",
    "\n",
    "    return best_dict"
   ]
  },
  {
   "cell_type": "code",
   "execution_count": 21,
   "metadata": {},
   "outputs": [],
   "source": [
    "decipher_dict = getDecipherMCMC(ciphered, calculateNgrammLLH(bigramm_logfreques_ru), freques_ru)"
   ]
  },
  {
   "cell_type": "code",
   "execution_count": 22,
   "metadata": {},
   "outputs": [
    {
     "data": {
      "text/plain": [
       "'в течение мнодиг часов шерлок голмс сизел соднувшись наз стеклянной пробиркой в которой варилось чтото на резкость вонючее долова едо была опужена на друзь и он кахался мне погофим на странную тожую птицу с тусклыми серыми перьями и черным гоголком'"
      ]
     },
     "execution_count": 22,
     "metadata": {},
     "output_type": "execute_result"
    }
   ],
   "source": [
    "decipher(ciphered, decipher_dict)"
   ]
  },
  {
   "cell_type": "code",
   "execution_count": 23,
   "metadata": {},
   "outputs": [
    {
     "data": {
      "text/plain": [
       "0.7352941176470589"
      ]
     },
     "execution_count": 23,
     "metadata": {},
     "output_type": "execute_result"
    }
   ],
   "source": [
    "decipherQuality(cipher.cipher_dict, decipher_dict)"
   ]
  },
  {
   "cell_type": "markdown",
   "metadata": {},
   "source": [
    "**4.** Расшифруйте сообщение:\n",
    "\n",
    "←⇠⇒↟↹↷⇊↹↷↟↤↟↨←↹↝⇛⇯↳⇴⇒⇈↝⇊↾↹↟⇒↟↹⇷⇛⇞↨↟↹↝⇛⇯↳⇴⇒⇈↝⇊↾↹↨←⇌⇠↨↹⇙↹⇸↨⇛↙⇛↹⇠⇛⇛↲⇆←↝↟↞↹⇌⇛↨\n",
    "⇛⇯⇊↾↹⇒←↙⇌⇛↹⇷⇯⇛⇞↟↨⇴↨⇈↹⇠⇌⇛⇯←←↹↷⇠←↙⇛↹↷⇊↹↷⇠←↹⇠↤←⇒⇴⇒↟↹⇷⇯⇴↷↟⇒⇈↝⇛↹↟↹⇷⇛⇒⇙⇞↟↨←↹↳⇴⇌\n",
    "⇠↟↳⇴⇒⇈↝⇊↾↹↲⇴⇒⇒↹⇰⇴↹⇷⇛⇠⇒←↤↝←←↹⇞←↨↷←⇯↨⇛←↹⇰⇴↤⇴↝↟←↹⇌⇙⇯⇠⇴↹↘⇛↨↞↹⇌⇛↝←⇞↝⇛↹↞↹↝↟⇞←↙⇛\n",
    "↹↝←↹⇛↲←⇆⇴⇏"
   ]
  },
  {
   "cell_type": "code",
   "execution_count": 24,
   "metadata": {},
   "outputs": [],
   "source": [
    "ciphered_final = '←⇠⇒↟↹↷⇊↹↷↟↤↟↨←↹↝⇛⇯↳⇴⇒⇈↝⇊↾↹↟⇒↟↹⇷⇛⇞↨↟↹↝⇛⇯↳⇴⇒⇈↝⇊↾↹↨←⇌⇠↨↹⇙↹⇸↨⇛↙⇛↹⇠⇛⇛↲⇆←↝↟↞↹⇌⇛↨⇛⇯⇊↾↹⇒←↙⇌⇛↹⇷⇯⇛⇞↟↨⇴↨⇈↹⇠⇌⇛⇯←←↹↷⇠←↙⇛↹↷⇊↹↷⇠←↹⇠↤←⇒⇴⇒↟↹⇷⇯⇴↷↟⇒⇈↝⇛↹↟↹⇷⇛⇒⇙⇞↟↨←↹↳⇴⇌⇠↟↳⇴⇒⇈↝⇊↾↹↲⇴⇒⇒↹⇰⇴↹⇷⇛⇠⇒←↤↝←←↹⇞←↨↷←⇯↨⇛←↹⇰⇴↤⇴↝↟←↹⇌⇙⇯⇠⇴↹↘⇛↨↞↹⇌⇛↝←⇞↝⇛↹↞↹↝↟⇞←↙⇛↹↝←↹⇛↲←⇆⇴⇏'"
   ]
  },
  {
   "cell_type": "code",
   "execution_count": 25,
   "metadata": {},
   "outputs": [
    {
     "data": {
      "text/plain": [
       "230"
      ]
     },
     "execution_count": 25,
     "metadata": {},
     "output_type": "execute_result"
    }
   ],
   "source": [
    "len(ciphered_final)"
   ]
  },
  {
   "cell_type": "code",
   "execution_count": 26,
   "metadata": {},
   "outputs": [
    {
     "data": {
      "text/plain": [
       "'если вы вимите нордальный или почти нордальный текст у этого сообщения который легко прочитать скорее всего вы все смелали правильно и получите даксидальный балл за послемнее четвертое замание курса хотя конечно я ничего не обещаж'"
      ]
     },
     "execution_count": 26,
     "metadata": {},
     "output_type": "execute_result"
    }
   ],
   "source": [
    "random.seed(42)\n",
    "np.random.seed(42)\n",
    "\n",
    "decipher(\n",
    "    ciphered_final, \n",
    "    getDecipherMCMC(\n",
    "        ciphered_final, \n",
    "        calculateNgrammLLH(bigramm_logfreques_ru), \n",
    "        freques_ru\n",
    "    )\n",
    ")"
   ]
  },
  {
   "cell_type": "markdown",
   "metadata": {},
   "source": [
    "**5.** Бонус : а что если от биграмм перейти к триграммам (тройкам букв) или даже больше? Улучшатся ли результаты? Когда улучшатся, а когда нет? Чтобы ответить на этот вопрос эмпирически, уже может понадобиться погенерировать много тестовых перестановок и последить за метриками, глазами может быть и не видно."
   ]
  },
  {
   "cell_type": "code",
   "execution_count": 27,
   "metadata": {},
   "outputs": [],
   "source": [
    "trigramm_logfreques_ru = buildNgrammDict(alphabet_ru, corpora_ru, ngramm_length=3)"
   ]
  },
  {
   "cell_type": "code",
   "execution_count": 28,
   "metadata": {},
   "outputs": [],
   "source": [
    "TRIALS = 100\n",
    "bigramm_performance = []\n",
    "trigramm_performance = []\n",
    "for trial in range(TRIALS):\n",
    "    cipher = RandomPermuteCipher(alphabet_ru)\n",
    "    ciphered = cipher.cipher(test_message)\n",
    "    decipher_dict_bigramm = getDecipherMCMC(ciphered, \n",
    "                                            calculateNgrammLLH(bigramm_logfreques_ru), \n",
    "                                            freques_ru)\n",
    "    bigramm_performance.append(decipherQuality(cipher.cipher_dict, decipher_dict_bigramm))\n",
    "    decipher_dict_trigramm = getDecipherMCMC(ciphered, \n",
    "                                             calculateNgrammLLH(trigramm_logfreques_ru), \n",
    "                                             freques_ru)\n",
    "    trigramm_performance.append(decipherQuality(cipher.cipher_dict, decipher_dict_trigramm))"
   ]
  },
  {
   "cell_type": "code",
   "execution_count": 29,
   "metadata": {},
   "outputs": [
    {
     "data": {
      "image/png": "[encoded data removed]",
      "text/plain": [
       "<Figure size 432x288 with 1 Axes>"
      ]
     },
     "metadata": {
      "needs_background": "light"
     },
     "output_type": "display_data"
    }
   ],
   "source": [
    "plt.hist(bigramm_performance, label='MCMC bigramm')\n",
    "plt.hist(trigramm_performance, label='MCMC trighramm')\n",
    "plt.legend()\n",
    "plt.title('Доля правильно расшифрованных букв')\n",
    "plt.show();"
   ]
  },
  {
   "cell_type": "code",
   "execution_count": 30,
   "metadata": {},
   "outputs": [
    {
     "data": {
      "text/plain": [
       "(0.666764705882353, 0.8932352941176469)"
      ]
     },
     "execution_count": 30,
     "metadata": {},
     "output_type": "execute_result"
    }
   ],
   "source": [
    "np.mean(bigramm_performance), np.mean(trigramm_performance)"
   ]
  },
  {
   "cell_type": "markdown",
   "metadata": {},
   "source": [
    "Для нашего текста триграммы дают лучшую производительность. Попробуем на зашифрованном сообщении из предыдущего пункта."
   ]
  },
  {
   "cell_type": "code",
   "execution_count": 31,
   "metadata": {},
   "outputs": [
    {
     "data": {
      "text/plain": [
       "'если вы видите нормальный или почти нормальный текст у этого сообщения который легко прочитать скорее всего вы все сделали правильно и получите максимальный балл за последнее четвертое задание курса хотя конечно я ничего не обещаю'"
      ]
     },
     "execution_count": 31,
     "metadata": {},
     "output_type": "execute_result"
    }
   ],
   "source": [
    "random.seed(42)\n",
    "np.random.seed(42)\n",
    "\n",
    "decipher(\n",
    "    ciphered_final, \n",
    "    getDecipherMCMC(\n",
    "        ciphered_final, \n",
    "        calculateNgrammLLH(trigramm_logfreques_ru), \n",
    "        freques_ru\n",
    "    )\n",
    ")"
   ]
  },
  {
   "cell_type": "code",
   "execution_count": null,
   "metadata": {},
   "outputs": [],
   "source": []
  }
 ],
 "metadata": {
  "kernelspec": {
   "display_name": "Python 3",
   "language": "python",
   "name": "python3"
  },
  "language_info": {
   "codemirror_mode": {
    "name": "ipython",
    "version": 3
   },
   "file_extension": ".py",
   "mimetype": "text/x-python",
   "name": "python",
   "nbconvert_exporter": "python",
   "pygments_lexer": "ipython3",
   "version": "3.7.6"
  }
 },
 "nbformat": 4,
 "nbformat_minor": 4
}
